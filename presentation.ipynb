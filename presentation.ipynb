{
 "cells": [
  {
   "cell_type": "markdown",
   "metadata": {},
   "source": [
    "# Introduction"
   ]
  },
  {
   "cell_type": "markdown",
   "metadata": {},
   "source": [
    "### Project Abstract"
   ]
  },
  {
   "cell_type": "markdown",
   "metadata": {},
   "source": [
    "### Figure illustrating workflow (Ruoyu)\n",
    "\n",
    "See below for a brief summary illustration of the workflow for this project:\n",
    "\n",
    "<img src=\"./img/workflow.jpg\" width=\"1000\">"
   ]
  },
  {
   "cell_type": "markdown",
   "metadata": {},
   "source": [
    "# Data (Zhengyi)"
   ]
  },
  {
   "cell_type": "markdown",
   "metadata": {},
   "source": [
    "Description: twitter sentiment analysis: detect attitude based on twitter text <br>\n",
    "6 columns in raw dataset, only keep 3 for future analysis. \n",
    "- __target__: 0(negative) and 4(positive); 16,000,000 samples = 8,000,000 negative + 8,000,000 postive: balanced dataset. \n",
    "- id: id of the tweet, not informative, remove this column. \n",
    "- __date__: date that the twitter was posted, we __create 7 dummy variables, one for each weekday: \"weekday_Mon, weekday_Tue, ..., weekday_Sun\"__\n",
    "- flag: all samples has the same value NO_QUERY, so remove this column. \n",
    "- username: the user who tweeted, like id, not informative, remove this column.\n",
    "- __text__: the text of twitter, key components for creating feature spaces. "
   ]
  },
  {
   "attachments": {},
   "cell_type": "markdown",
   "metadata": {},
   "source": [
    "# Pre-processing Pipeline"
   ]
  },
  {
   "attachments": {},
   "cell_type": "markdown",
   "metadata": {},
   "source": [
    "### Functions"
   ]
  },
  {
   "cell_type": "code",
   "execution_count": 7,
   "metadata": {},
   "outputs": [],
   "source": [
    "import contractions\n",
    "import my_globals\n",
    "import numpy as np\n",
    "import nltk\n",
    "import pandas as pd\n",
    "import re\n",
    "import warnings\n",
    "\n",
    "from nltk.tokenize import word_tokenize\n",
    "from nltk.stem import WordNetLemmatizer\n",
    "from nltk.corpus import stopwords\n",
    "from typing import List, Tuple"
   ]
  },
  {
   "cell_type": "code",
   "execution_count": 5,
   "metadata": {},
   "outputs": [
    {
     "name": "stdout",
     "output_type": "stream",
     "text": [
      "BREAKING: Lions trading D'Andre Swift to Eagles. (via @RapSheet and @TomPelissero)\n",
      "BREAKING: Lions trading D'Andre Swift to Eagles. (via and\n"
     ]
    }
   ],
   "source": [
    "from preprocessing import tokenize\n",
    "\n",
    "def del_username(s: str) -> str:\n",
    "    \"\"\"Delete @Username from a tweet str.\n",
    "\n",
    "    :param s: input string\n",
    "    :type s: str\n",
    "    :rtype: str\n",
    "    \"\"\"\n",
    "\n",
    "    return \" \".join([t for t in tokenize(s, how=\"split\") if not t.startswith(\"@\")])\n",
    "\n",
    "s = \"BREAKING: Lions trading D'Andre Swift to Eagles. (via @RapSheet and @TomPelissero)\"\n",
    "\n",
    "print(s)\n",
    "print(del_username(s))"
   ]
  },
  {
   "cell_type": "code",
   "execution_count": 8,
   "metadata": {},
   "outputs": [
    {
     "name": "stdout",
     "output_type": "stream",
     "text": [
      "BREAKING: Lions trading D'Andre Swift to Eagles. (via @RapSheet and @TomPelissero)\n",
      "BREAKING Lions trading DAndre Swift to Eagles via @RapSheet and @TomPelissero\n"
     ]
    }
   ],
   "source": [
    "def del_punc(s: str) -> str:\n",
    "    \"\"\"Delete punctuations from str.\n",
    "\n",
    "    :param s: input string\n",
    "    :type s: str\n",
    "    :rtype: str\n",
    "    \"\"\"\n",
    "    punc = my_globals.PUNCS\n",
    "    return \"\".join([w for w in s if w not in punc])\n",
    "\n",
    "s = \"BREAKING: Lions trading D'Andre Swift to Eagles. (via @RapSheet and @TomPelissero)\"\n",
    "\n",
    "print(s)\n",
    "print(del_punc(s))"
   ]
  },
  {
   "cell_type": "code",
   "execution_count": 9,
   "metadata": {},
   "outputs": [
    {
     "name": "stdout",
     "output_type": "stream",
     "text": [
      "\n",
      "'BLADE', starring Mahershala Ali, Mia Goth and Delroy Lindo, is looking to begin filming in late May.\n",
      "(Source: https://hollywoodreporter.com/movies/movie-news/marvels-blade-nabs-true-detective-creator-1235405915/)\"\n",
      "\n",
      "'BLADE', starring Mahershala Ali, Mia Goth and Delroy Lindo, is looking to begin filming in late May. (Source: )\"\n"
     ]
    }
   ],
   "source": [
    "def del_link(s: str) -> str:\n",
    "    \"\"\"Delete links from str.\n",
    "\n",
    "    :param s: input string\n",
    "    :type s: str\n",
    "    :rtype: str\n",
    "    \"\"\"\n",
    "    r = r\"(https?:\\/\\/)?([\\da-z\\.-]+)\\.([a-z\\.]{2,6})([\\/\\w\\.-]*)\"\n",
    "    return \" \".join([re.sub(r, \"\", t) for t in tokenize(s, how=\"split\")])\n",
    "\n",
    "s = \"\"\"\n",
    "'BLADE', starring Mahershala Ali, Mia Goth and Delroy Lindo, is looking to begin filming in late May.\n",
    "(Source: https://hollywoodreporter.com/movies/movie-news/marvels-blade-nabs-true-detective-creator-1235405915/)\"\n",
    "\"\"\"\n",
    "\n",
    "print(s)\n",
    "print(del_link(s))"
   ]
  },
  {
   "cell_type": "code",
   "execution_count": 10,
   "metadata": {},
   "outputs": [
    {
     "name": "stdout",
     "output_type": "stream",
     "text": [
      "vanessa hudgens didn't go to coachella and now this.. what's next? mariah carey will not celebrate christmas?\n",
      "vanessa hudgens did not go to coachella and now this.. what is next? mariah carey will not celebrate christmas?\n"
     ]
    }
   ],
   "source": [
    "def decontract(s: str) -> str:\n",
    "    \"\"\"Remove contractions in text.\n",
    "    e.g. I'm -> I am; she'd -> she would\n",
    "\n",
    "    :param s: input string\n",
    "    :type s: str\n",
    "    :rtype: str\n",
    "    \"\"\"\n",
    "    tokens = []\n",
    "    for t in tokenize(s, how=\"split\"):\n",
    "        tokens.append(contractions.fix(t))\n",
    "    return \" \".join(tokens)\n",
    "\n",
    "s = \"vanessa hudgens didn't go to coachella and now this.. what's next? mariah carey will not celebrate christmas?\"\n",
    "\n",
    "print(s)\n",
    "print(decontract(s))"
   ]
  },
  {
   "cell_type": "code",
   "execution_count": 13,
   "metadata": {},
   "outputs": [
    {
     "name": "stdout",
     "output_type": "stream",
     "text": [
      "vanessa hudgens did not go to coachella and now this.. what is next? mariah carey will not celebrate christmas?\n",
      "vanessa hudgens go coachella .. next ? mariah carey celebrate christmas ?\n"
     ]
    }
   ],
   "source": [
    "def del_stopwords(s: str) -> str:\n",
    "    \"\"\"Delete stopwords and punctuation from a string.\n",
    "    Note that the type-hinting indicates that this function ought\n",
    "    to be run first in the pre-processing pipeline.\n",
    "\n",
    "    :param s: input string\n",
    "    :type s: str\n",
    "    \"\"\"\n",
    "    stop_words = set(stopwords.words('english'))\n",
    "\n",
    "    return \" \".join([t for t in tokenize(s) if t not in stop_words])\n",
    "\n",
    "s = \"vanessa hudgens did not go to coachella and now this.. what is next? mariah carey will not celebrate christmas?\"\n",
    "\n",
    "print(s)\n",
    "print(del_stopwords(s))"
   ]
  },
  {
   "cell_type": "code",
   "execution_count": 15,
   "metadata": {},
   "outputs": [
    {
     "name": "stdout",
     "output_type": "stream",
     "text": [
      "\n",
      "With the No. 128 overall pick in the 2023 @NFLDraft, the @RamsNFL select Stetson Bennett!\n",
      "\n",
      "With the No overall pick in the NFLDraft the RamsNFL select Stetson Bennett\n"
     ]
    }
   ],
   "source": [
    "def remove_digits(s: str) -> bool:\n",
    "    \"\"\"Detect digits from str.\n",
    "\n",
    "    :param s: input string\n",
    "    :type s: str\n",
    "    :rtype: bool\n",
    "    \"\"\"\n",
    "    cleaned_string = re.sub(r'\\w*\\d\\w*|[^\\w\\s]', '', s)\n",
    "    cleaned_string = re.sub(r'\\s+', ' ', cleaned_string)\n",
    "    cleaned_string = cleaned_string.strip()\n",
    "\n",
    "    return bool(cleaned_string)\n",
    "\n",
    "\n",
    "def del_digits(s: str) -> str:\n",
    "    \"\"\"Delete digits from str.\n",
    "\n",
    "    :param s: input string\n",
    "    :type s: str\n",
    "    :rtype: str\n",
    "    \"\"\"\n",
    "    return \" \".join([w for w in tokenize(s) if remove_digits(w)])\n",
    "\n",
    "s = \"\"\"\n",
    "With the No. 128 overall pick in the 2023 @NFLDraft, the @RamsNFL select Stetson Bennett!\n",
    "\"\"\"\n",
    "\n",
    "print(s)\n",
    "print(del_digits(s))"
   ]
  },
  {
   "cell_type": "code",
   "execution_count": 18,
   "metadata": {},
   "outputs": [
    {
     "name": "stdout",
     "output_type": "stream",
     "text": [
      "\n",
      "Because we have the best workers in the world, we're going to have the strongest economy in the world.\n",
      "\n",
      "Because we have the best worker in the world , we 're going to have the strongest economy in the world .\n"
     ]
    }
   ],
   "source": [
    "def lemmatize(s: str) -> str:\n",
    "    \"\"\"Lemmatize str.\n",
    "\n",
    "    :param s: input string\n",
    "    :type s: str\n",
    "    :rtype: str\n",
    "    \"\"\"\n",
    "    lemmatizer = WordNetLemmatizer()\n",
    "    return \" \".join([lemmatizer.lemmatize(t) for t in tokenize(s)])\n",
    "\n",
    "\n",
    "s = \"\"\"\n",
    "Because we have the best workers in the world, we're going to have the strongest economy in the world.\n",
    "\"\"\"\n",
    "\n",
    "print(s)\n",
    "print(lemmatize(s))"
   ]
  },
  {
   "cell_type": "code",
   "execution_count": 19,
   "metadata": {},
   "outputs": [
    {
     "name": "stdout",
     "output_type": "stream",
     "text": [
      "yayyyyyyy yayy\n",
      "yayy yayy\n"
     ]
    }
   ],
   "source": [
    "def del_awww(s: str) -> str:\n",
    "    \"\"\"Delete repeated letters in a str.\n",
    "    e.g. haaahaahaaaa -> haahaahaa\n",
    "\n",
    "    :param s: input string\n",
    "    :type s: str\n",
    "    :rtype: str\n",
    "    \"\"\"\n",
    "    pattern = r'(\\w)\\1{2,}'\n",
    "    reduced_s = re.sub(pattern, r'\\1\\1', s)\n",
    "    return reduced_s\n",
    "\n",
    "s = \"yayyyyyyy yayy\"\n",
    "\n",
    "print(s)\n",
    "print(del_awww(s))"
   ]
  },
  {
   "cell_type": "markdown",
   "metadata": {},
   "source": [
    "### All together"
   ]
  },
  {
   "cell_type": "code",
   "execution_count": 21,
   "metadata": {},
   "outputs": [
    {
     "name": "stdout",
     "output_type": "stream",
     "text": [
      "\n",
      "Seiji Tsukimoto is an artist who blends pop-up book and kirie techniques to create greeting cards and designs encapsulated within spherical frames without use of any glue\n",
      "\n",
      "seiji tsukimoto artist blend popup book kirie technique create greeting card design encapsulated within spherical frame without use glue\n"
     ]
    }
   ],
   "source": [
    "from functools import reduce\n",
    "pipeline_dict = {\n",
    "    \"del_link\": del_link,\n",
    "    \"del_username\": del_username,\n",
    "    \"decontract\": decontract,\n",
    "    \"lemmatize\": lemmatize,\n",
    "    \"del_stopwords\": del_stopwords,\n",
    "    \"del_punc\": del_punc,\n",
    "    \"del_digits\": del_digits,\n",
    "    \"del_awww\": del_awww\n",
    "}\n",
    "\n",
    "\n",
    "def preprocess_pipeline(\n",
    "    s: str,\n",
    "    return_lower: bool = True,\n",
    "    pipeline: str = \"conservative\"\n",
    ") -> str:\n",
    "    \"\"\"Run string through all pre-processing functions.\n",
    "\n",
    "    :param s: input string\n",
    "    :type s: str\n",
    "    :param return_lower: whether to return lower case str or not\n",
    "    :type return_lower: bool\n",
    "    :param pipeline: style of pipelining. Either \"conservative\" or \"aggresive\".\n",
    "    :type pipeline: str\n",
    "    :rtype: str\n",
    "    \"\"\"\n",
    "    if pipeline not in my_globals.PIPELINE.keys():\n",
    "        warnings.warn(\n",
    "            \"Invalid pipeline. Default to 'conservative'.\"\n",
    "        )\n",
    "        pipeline = \"conservative\"\n",
    "\n",
    "    # pipeline designs stored in my_globals\n",
    "    s = reduce(\n",
    "        lambda value, function: function(value),\n",
    "        (\n",
    "            pipeline_dict[key]\n",
    "            for key in my_globals.PIPELINE[pipeline]\n",
    "        ),\n",
    "        s,\n",
    "    )\n",
    "\n",
    "    return s.lower() if return_lower else s\n",
    "\n",
    "s = \"\"\"\n",
    "Seiji Tsukimoto is an artist who blends pop-up book and kirie techniques to create greeting cards and designs encapsulated within spherical frames without use of any glue\n",
    "\"\"\"\n",
    "\n",
    "t = preprocess_pipeline(s, return_lower=True, pipeline=\"conservative\")\n",
    "print(s)\n",
    "print(t)"
   ]
  },
  {
   "cell_type": "markdown",
   "metadata": {},
   "source": [
    "# Feature Spaces"
   ]
  },
  {
   "attachments": {},
   "cell_type": "markdown",
   "metadata": {},
   "source": [
    "### TF-IDF\n",
    "\n",
    "Term Frequency-Inverse Document Frequency(TF-IDF) is defined by \n",
    "\n",
    "\\begin{align*}\n",
    "    \\text{TF}(t) &= \\frac{\\text{Occurence of term $t$ in document}}{\\text{Total number of terms in document}}\\\\\n",
    "    \\text{IDF}(t) &= \\log\\left(\n",
    "        \\frac{\n",
    "            \\text{Total number of documents}\n",
    "        }{\n",
    "            \\text{Number of documents containing term $t$}\n",
    "        }\n",
    "    \\right)\\\\\n",
    "    \\text{TF-IDF}(t)&=\\text{TF}(t)\\cdot \\text{IDF}(t)\n",
    "\\end{align*}\n",
    "\n",
    "Intuition: Relative importance $\\times$ relative offset"
   ]
  },
  {
   "cell_type": "code",
   "execution_count": 22,
   "metadata": {},
   "outputs": [
    {
     "name": "stderr",
     "output_type": "stream",
     "text": [
      "C:\\Users\\linru\\AppData\\Roaming\\Python\\Python39\\site-packages\\dateutil\\parser\\_parser.py:1213: UnknownTimezoneWarning: tzname PDT identified but not understood.  Pass `tzinfos` argument in order to correctly return a timezone-aware datetime.  In a future version, this will raise an exception.\n",
      "  warnings.warn(\"tzname {tzname} identified but not understood.  \"\n"
     ]
    },
    {
     "data": {
      "text/html": [
       "<div>\n",
       "<style scoped>\n",
       "    .dataframe tbody tr th:only-of-type {\n",
       "        vertical-align: middle;\n",
       "    }\n",
       "\n",
       "    .dataframe tbody tr th {\n",
       "        vertical-align: top;\n",
       "    }\n",
       "\n",
       "    .dataframe thead th {\n",
       "        text-align: right;\n",
       "    }\n",
       "</style>\n",
       "<table border=\"1\" class=\"dataframe\">\n",
       "  <thead>\n",
       "    <tr style=\"text-align: right;\">\n",
       "      <th></th>\n",
       "      <th>exclaim_freq</th>\n",
       "      <th>mention_count</th>\n",
       "      <th>cap_freq</th>\n",
       "      <th>target</th>\n",
       "      <th>weekday_Mon</th>\n",
       "      <th>weekday_Tue</th>\n",
       "      <th>weekday_Wed</th>\n",
       "      <th>weekday_Thu</th>\n",
       "      <th>weekday_Fri</th>\n",
       "      <th>weekday_Sat</th>\n",
       "      <th>weekday_Sun</th>\n",
       "      <th>tfidf_day</th>\n",
       "      <th>tfidf_get</th>\n",
       "      <th>tfidf_go</th>\n",
       "      <th>tfidf_going</th>\n",
       "      <th>tfidf_good</th>\n",
       "      <th>tfidf_got</th>\n",
       "      <th>tfidf_like</th>\n",
       "      <th>tfidf_love</th>\n",
       "      <th>tfidf_wa</th>\n",
       "      <th>tfidf_work</th>\n",
       "    </tr>\n",
       "  </thead>\n",
       "  <tbody>\n",
       "    <tr>\n",
       "      <th>0</th>\n",
       "      <td>0.0</td>\n",
       "      <td>1</td>\n",
       "      <td>0.101695</td>\n",
       "      <td>0</td>\n",
       "      <td>0.0</td>\n",
       "      <td>0.0</td>\n",
       "      <td>0.0</td>\n",
       "      <td>0.0</td>\n",
       "      <td>0.0</td>\n",
       "      <td>1.0</td>\n",
       "      <td>0.0</td>\n",
       "      <td>0.000000</td>\n",
       "      <td>0.000000</td>\n",
       "      <td>0.0</td>\n",
       "      <td>0.0</td>\n",
       "      <td>0.0</td>\n",
       "      <td>0.0</td>\n",
       "      <td>0.000000</td>\n",
       "      <td>0.0</td>\n",
       "      <td>1.000000</td>\n",
       "      <td>0.0</td>\n",
       "    </tr>\n",
       "    <tr>\n",
       "      <th>1</th>\n",
       "      <td>0.0</td>\n",
       "      <td>1</td>\n",
       "      <td>0.078947</td>\n",
       "      <td>4</td>\n",
       "      <td>0.0</td>\n",
       "      <td>0.0</td>\n",
       "      <td>0.0</td>\n",
       "      <td>0.0</td>\n",
       "      <td>1.0</td>\n",
       "      <td>0.0</td>\n",
       "      <td>0.0</td>\n",
       "      <td>0.000000</td>\n",
       "      <td>0.000000</td>\n",
       "      <td>0.0</td>\n",
       "      <td>0.0</td>\n",
       "      <td>0.0</td>\n",
       "      <td>0.0</td>\n",
       "      <td>0.000000</td>\n",
       "      <td>0.0</td>\n",
       "      <td>1.000000</td>\n",
       "      <td>0.0</td>\n",
       "    </tr>\n",
       "    <tr>\n",
       "      <th>2</th>\n",
       "      <td>0.0</td>\n",
       "      <td>0</td>\n",
       "      <td>0.028986</td>\n",
       "      <td>0</td>\n",
       "      <td>0.0</td>\n",
       "      <td>0.0</td>\n",
       "      <td>0.0</td>\n",
       "      <td>0.0</td>\n",
       "      <td>0.0</td>\n",
       "      <td>1.0</td>\n",
       "      <td>0.0</td>\n",
       "      <td>0.000000</td>\n",
       "      <td>0.000000</td>\n",
       "      <td>0.0</td>\n",
       "      <td>0.0</td>\n",
       "      <td>0.0</td>\n",
       "      <td>0.0</td>\n",
       "      <td>0.000000</td>\n",
       "      <td>0.0</td>\n",
       "      <td>1.000000</td>\n",
       "      <td>0.0</td>\n",
       "    </tr>\n",
       "    <tr>\n",
       "      <th>3</th>\n",
       "      <td>0.0</td>\n",
       "      <td>10</td>\n",
       "      <td>0.222222</td>\n",
       "      <td>4</td>\n",
       "      <td>0.0</td>\n",
       "      <td>0.0</td>\n",
       "      <td>0.0</td>\n",
       "      <td>0.0</td>\n",
       "      <td>1.0</td>\n",
       "      <td>0.0</td>\n",
       "      <td>0.0</td>\n",
       "      <td>0.000000</td>\n",
       "      <td>0.000000</td>\n",
       "      <td>0.0</td>\n",
       "      <td>0.0</td>\n",
       "      <td>0.0</td>\n",
       "      <td>0.0</td>\n",
       "      <td>0.000000</td>\n",
       "      <td>0.0</td>\n",
       "      <td>0.000000</td>\n",
       "      <td>0.0</td>\n",
       "    </tr>\n",
       "    <tr>\n",
       "      <th>4</th>\n",
       "      <td>0.0</td>\n",
       "      <td>1</td>\n",
       "      <td>0.000000</td>\n",
       "      <td>4</td>\n",
       "      <td>0.0</td>\n",
       "      <td>0.0</td>\n",
       "      <td>0.0</td>\n",
       "      <td>0.0</td>\n",
       "      <td>0.0</td>\n",
       "      <td>1.0</td>\n",
       "      <td>0.0</td>\n",
       "      <td>0.000000</td>\n",
       "      <td>0.000000</td>\n",
       "      <td>0.0</td>\n",
       "      <td>0.0</td>\n",
       "      <td>0.0</td>\n",
       "      <td>0.0</td>\n",
       "      <td>0.000000</td>\n",
       "      <td>1.0</td>\n",
       "      <td>0.000000</td>\n",
       "      <td>0.0</td>\n",
       "    </tr>\n",
       "    <tr>\n",
       "      <th>...</th>\n",
       "      <td>...</td>\n",
       "      <td>...</td>\n",
       "      <td>...</td>\n",
       "      <td>...</td>\n",
       "      <td>...</td>\n",
       "      <td>...</td>\n",
       "      <td>...</td>\n",
       "      <td>...</td>\n",
       "      <td>...</td>\n",
       "      <td>...</td>\n",
       "      <td>...</td>\n",
       "      <td>...</td>\n",
       "      <td>...</td>\n",
       "      <td>...</td>\n",
       "      <td>...</td>\n",
       "      <td>...</td>\n",
       "      <td>...</td>\n",
       "      <td>...</td>\n",
       "      <td>...</td>\n",
       "      <td>...</td>\n",
       "      <td>...</td>\n",
       "    </tr>\n",
       "    <tr>\n",
       "      <th>995</th>\n",
       "      <td>0.0</td>\n",
       "      <td>0</td>\n",
       "      <td>0.093750</td>\n",
       "      <td>0</td>\n",
       "      <td>0.0</td>\n",
       "      <td>1.0</td>\n",
       "      <td>0.0</td>\n",
       "      <td>0.0</td>\n",
       "      <td>0.0</td>\n",
       "      <td>0.0</td>\n",
       "      <td>0.0</td>\n",
       "      <td>0.000000</td>\n",
       "      <td>0.000000</td>\n",
       "      <td>0.0</td>\n",
       "      <td>0.0</td>\n",
       "      <td>0.0</td>\n",
       "      <td>0.0</td>\n",
       "      <td>0.000000</td>\n",
       "      <td>0.0</td>\n",
       "      <td>0.000000</td>\n",
       "      <td>0.0</td>\n",
       "    </tr>\n",
       "    <tr>\n",
       "      <th>996</th>\n",
       "      <td>0.0</td>\n",
       "      <td>1</td>\n",
       "      <td>0.030769</td>\n",
       "      <td>0</td>\n",
       "      <td>0.0</td>\n",
       "      <td>0.0</td>\n",
       "      <td>0.0</td>\n",
       "      <td>0.0</td>\n",
       "      <td>0.0</td>\n",
       "      <td>1.0</td>\n",
       "      <td>0.0</td>\n",
       "      <td>0.687996</td>\n",
       "      <td>0.000000</td>\n",
       "      <td>0.0</td>\n",
       "      <td>0.0</td>\n",
       "      <td>0.0</td>\n",
       "      <td>0.0</td>\n",
       "      <td>0.000000</td>\n",
       "      <td>0.0</td>\n",
       "      <td>0.725715</td>\n",
       "      <td>0.0</td>\n",
       "    </tr>\n",
       "    <tr>\n",
       "      <th>997</th>\n",
       "      <td>0.0</td>\n",
       "      <td>1</td>\n",
       "      <td>0.000000</td>\n",
       "      <td>0</td>\n",
       "      <td>0.0</td>\n",
       "      <td>1.0</td>\n",
       "      <td>0.0</td>\n",
       "      <td>0.0</td>\n",
       "      <td>0.0</td>\n",
       "      <td>0.0</td>\n",
       "      <td>0.0</td>\n",
       "      <td>0.000000</td>\n",
       "      <td>0.692598</td>\n",
       "      <td>0.0</td>\n",
       "      <td>0.0</td>\n",
       "      <td>0.0</td>\n",
       "      <td>0.0</td>\n",
       "      <td>0.721324</td>\n",
       "      <td>0.0</td>\n",
       "      <td>0.000000</td>\n",
       "      <td>0.0</td>\n",
       "    </tr>\n",
       "    <tr>\n",
       "      <th>998</th>\n",
       "      <td>0.0</td>\n",
       "      <td>0</td>\n",
       "      <td>0.148148</td>\n",
       "      <td>4</td>\n",
       "      <td>1.0</td>\n",
       "      <td>0.0</td>\n",
       "      <td>0.0</td>\n",
       "      <td>0.0</td>\n",
       "      <td>0.0</td>\n",
       "      <td>0.0</td>\n",
       "      <td>0.0</td>\n",
       "      <td>0.000000</td>\n",
       "      <td>0.000000</td>\n",
       "      <td>0.0</td>\n",
       "      <td>0.0</td>\n",
       "      <td>0.0</td>\n",
       "      <td>0.0</td>\n",
       "      <td>0.000000</td>\n",
       "      <td>0.0</td>\n",
       "      <td>0.000000</td>\n",
       "      <td>0.0</td>\n",
       "    </tr>\n",
       "    <tr>\n",
       "      <th>999</th>\n",
       "      <td>0.0</td>\n",
       "      <td>0</td>\n",
       "      <td>0.181818</td>\n",
       "      <td>4</td>\n",
       "      <td>0.0</td>\n",
       "      <td>0.0</td>\n",
       "      <td>0.0</td>\n",
       "      <td>0.0</td>\n",
       "      <td>0.0</td>\n",
       "      <td>1.0</td>\n",
       "      <td>0.0</td>\n",
       "      <td>0.000000</td>\n",
       "      <td>0.000000</td>\n",
       "      <td>0.0</td>\n",
       "      <td>0.0</td>\n",
       "      <td>1.0</td>\n",
       "      <td>0.0</td>\n",
       "      <td>0.000000</td>\n",
       "      <td>0.0</td>\n",
       "      <td>0.000000</td>\n",
       "      <td>0.0</td>\n",
       "    </tr>\n",
       "  </tbody>\n",
       "</table>\n",
       "<p>1000 rows × 21 columns</p>\n",
       "</div>"
      ],
      "text/plain": [
       "     exclaim_freq  mention_count  cap_freq  ...  tfidf_love  tfidf_wa  tfidf_work\n",
       "0             0.0              1  0.101695  ...         0.0  1.000000         0.0\n",
       "1             0.0              1  0.078947  ...         0.0  1.000000         0.0\n",
       "2             0.0              0  0.028986  ...         0.0  1.000000         0.0\n",
       "3             0.0             10  0.222222  ...         0.0  0.000000         0.0\n",
       "4             0.0              1  0.000000  ...         1.0  0.000000         0.0\n",
       "..            ...            ...       ...  ...         ...       ...         ...\n",
       "995           0.0              0  0.093750  ...         0.0  0.000000         0.0\n",
       "996           0.0              1  0.030769  ...         0.0  0.725715         0.0\n",
       "997           0.0              1  0.000000  ...         0.0  0.000000         0.0\n",
       "998           0.0              0  0.148148  ...         0.0  0.000000         0.0\n",
       "999           0.0              0  0.181818  ...         0.0  0.000000         0.0\n",
       "\n",
       "[1000 rows x 21 columns]"
      ]
     },
     "execution_count": 22,
     "metadata": {},
     "output_type": "execute_result"
    }
   ],
   "source": [
    "from utils import get_feature_space\n",
    "\n",
    "demo_f1 = get_feature_space(\n",
    "    N = 1000,\n",
    "    feature_space=1,\n",
    "    max_features=10,\n",
    "    random_seed=4525\n",
    ")\n",
    "\n",
    "demo_f1"
   ]
  },
  {
   "cell_type": "markdown",
   "metadata": {},
   "source": [
    "### Word2Vec (Mike)"
   ]
  },
  {
   "cell_type": "markdown",
   "metadata": {},
   "source": [
    "Pre-trained in library vs. fit on own document"
   ]
  },
  {
   "cell_type": "code",
   "execution_count": 23,
   "metadata": {},
   "outputs": [
    {
     "name": "stderr",
     "output_type": "stream",
     "text": [
      "C:\\Users\\linru\\AppData\\Roaming\\Python\\Python39\\site-packages\\dateutil\\parser\\_parser.py:1213: UnknownTimezoneWarning: tzname PDT identified but not understood.  Pass `tzinfos` argument in order to correctly return a timezone-aware datetime.  In a future version, this will raise an exception.\n",
      "  warnings.warn(\"tzname {tzname} identified but not understood.  \"\n"
     ]
    },
    {
     "data": {
      "text/html": [
       "<div>\n",
       "<style scoped>\n",
       "    .dataframe tbody tr th:only-of-type {\n",
       "        vertical-align: middle;\n",
       "    }\n",
       "\n",
       "    .dataframe tbody tr th {\n",
       "        vertical-align: top;\n",
       "    }\n",
       "\n",
       "    .dataframe thead th {\n",
       "        text-align: right;\n",
       "    }\n",
       "</style>\n",
       "<table border=\"1\" class=\"dataframe\">\n",
       "  <thead>\n",
       "    <tr style=\"text-align: right;\">\n",
       "      <th></th>\n",
       "      <th>exclaim_freq</th>\n",
       "      <th>mention_count</th>\n",
       "      <th>cap_freq</th>\n",
       "      <th>target</th>\n",
       "      <th>weekday_Mon</th>\n",
       "      <th>weekday_Tue</th>\n",
       "      <th>weekday_Wed</th>\n",
       "      <th>weekday_Thu</th>\n",
       "      <th>weekday_Fri</th>\n",
       "      <th>weekday_Sat</th>\n",
       "      <th>weekday_Sun</th>\n",
       "      <th>0</th>\n",
       "      <th>1</th>\n",
       "      <th>2</th>\n",
       "      <th>3</th>\n",
       "      <th>4</th>\n",
       "      <th>5</th>\n",
       "      <th>6</th>\n",
       "      <th>7</th>\n",
       "      <th>8</th>\n",
       "      <th>9</th>\n",
       "    </tr>\n",
       "  </thead>\n",
       "  <tbody>\n",
       "    <tr>\n",
       "      <th>0</th>\n",
       "      <td>0.0</td>\n",
       "      <td>1</td>\n",
       "      <td>0.101695</td>\n",
       "      <td>0</td>\n",
       "      <td>0.0</td>\n",
       "      <td>0.0</td>\n",
       "      <td>0.0</td>\n",
       "      <td>0.0</td>\n",
       "      <td>0.0</td>\n",
       "      <td>1.0</td>\n",
       "      <td>0.0</td>\n",
       "      <td>0.425698</td>\n",
       "      <td>0.656093</td>\n",
       "      <td>0.055537</td>\n",
       "      <td>0.591616</td>\n",
       "      <td>0.120502</td>\n",
       "      <td>0.333190</td>\n",
       "      <td>0.322205</td>\n",
       "      <td>0.249077</td>\n",
       "      <td>0.827183</td>\n",
       "      <td>0.914529</td>\n",
       "    </tr>\n",
       "    <tr>\n",
       "      <th>1</th>\n",
       "      <td>0.0</td>\n",
       "      <td>1</td>\n",
       "      <td>0.078947</td>\n",
       "      <td>4</td>\n",
       "      <td>0.0</td>\n",
       "      <td>0.0</td>\n",
       "      <td>0.0</td>\n",
       "      <td>0.0</td>\n",
       "      <td>1.0</td>\n",
       "      <td>0.0</td>\n",
       "      <td>0.0</td>\n",
       "      <td>0.433069</td>\n",
       "      <td>0.675322</td>\n",
       "      <td>0.086407</td>\n",
       "      <td>0.476141</td>\n",
       "      <td>0.129918</td>\n",
       "      <td>0.334643</td>\n",
       "      <td>0.190001</td>\n",
       "      <td>0.204248</td>\n",
       "      <td>0.892071</td>\n",
       "      <td>0.916847</td>\n",
       "    </tr>\n",
       "    <tr>\n",
       "      <th>2</th>\n",
       "      <td>0.0</td>\n",
       "      <td>0</td>\n",
       "      <td>0.028986</td>\n",
       "      <td>0</td>\n",
       "      <td>0.0</td>\n",
       "      <td>0.0</td>\n",
       "      <td>0.0</td>\n",
       "      <td>0.0</td>\n",
       "      <td>0.0</td>\n",
       "      <td>1.0</td>\n",
       "      <td>0.0</td>\n",
       "      <td>0.432195</td>\n",
       "      <td>0.571778</td>\n",
       "      <td>0.041239</td>\n",
       "      <td>0.788095</td>\n",
       "      <td>0.156576</td>\n",
       "      <td>0.278325</td>\n",
       "      <td>0.517872</td>\n",
       "      <td>0.731983</td>\n",
       "      <td>0.822918</td>\n",
       "      <td>0.865297</td>\n",
       "    </tr>\n",
       "    <tr>\n",
       "      <th>3</th>\n",
       "      <td>0.0</td>\n",
       "      <td>10</td>\n",
       "      <td>0.222222</td>\n",
       "      <td>4</td>\n",
       "      <td>0.0</td>\n",
       "      <td>0.0</td>\n",
       "      <td>0.0</td>\n",
       "      <td>0.0</td>\n",
       "      <td>1.0</td>\n",
       "      <td>0.0</td>\n",
       "      <td>0.0</td>\n",
       "      <td>0.424415</td>\n",
       "      <td>0.765760</td>\n",
       "      <td>0.077409</td>\n",
       "      <td>0.096150</td>\n",
       "      <td>0.088386</td>\n",
       "      <td>0.298628</td>\n",
       "      <td>0.182869</td>\n",
       "      <td>0.113047</td>\n",
       "      <td>0.956757</td>\n",
       "      <td>0.874518</td>\n",
       "    </tr>\n",
       "    <tr>\n",
       "      <th>4</th>\n",
       "      <td>0.0</td>\n",
       "      <td>1</td>\n",
       "      <td>0.000000</td>\n",
       "      <td>4</td>\n",
       "      <td>0.0</td>\n",
       "      <td>0.0</td>\n",
       "      <td>0.0</td>\n",
       "      <td>0.0</td>\n",
       "      <td>0.0</td>\n",
       "      <td>1.0</td>\n",
       "      <td>0.0</td>\n",
       "      <td>0.387777</td>\n",
       "      <td>0.684490</td>\n",
       "      <td>0.361828</td>\n",
       "      <td>0.613221</td>\n",
       "      <td>0.092954</td>\n",
       "      <td>0.371385</td>\n",
       "      <td>0.138061</td>\n",
       "      <td>0.241088</td>\n",
       "      <td>0.894166</td>\n",
       "      <td>0.875149</td>\n",
       "    </tr>\n",
       "    <tr>\n",
       "      <th>...</th>\n",
       "      <td>...</td>\n",
       "      <td>...</td>\n",
       "      <td>...</td>\n",
       "      <td>...</td>\n",
       "      <td>...</td>\n",
       "      <td>...</td>\n",
       "      <td>...</td>\n",
       "      <td>...</td>\n",
       "      <td>...</td>\n",
       "      <td>...</td>\n",
       "      <td>...</td>\n",
       "      <td>...</td>\n",
       "      <td>...</td>\n",
       "      <td>...</td>\n",
       "      <td>...</td>\n",
       "      <td>...</td>\n",
       "      <td>...</td>\n",
       "      <td>...</td>\n",
       "      <td>...</td>\n",
       "      <td>...</td>\n",
       "      <td>...</td>\n",
       "    </tr>\n",
       "    <tr>\n",
       "      <th>995</th>\n",
       "      <td>0.0</td>\n",
       "      <td>0</td>\n",
       "      <td>0.093750</td>\n",
       "      <td>0</td>\n",
       "      <td>0.0</td>\n",
       "      <td>1.0</td>\n",
       "      <td>0.0</td>\n",
       "      <td>0.0</td>\n",
       "      <td>0.0</td>\n",
       "      <td>0.0</td>\n",
       "      <td>0.0</td>\n",
       "      <td>0.455166</td>\n",
       "      <td>0.409661</td>\n",
       "      <td>0.071957</td>\n",
       "      <td>0.608744</td>\n",
       "      <td>0.135676</td>\n",
       "      <td>0.267937</td>\n",
       "      <td>0.399963</td>\n",
       "      <td>0.168713</td>\n",
       "      <td>0.693614</td>\n",
       "      <td>0.745113</td>\n",
       "    </tr>\n",
       "    <tr>\n",
       "      <th>996</th>\n",
       "      <td>0.0</td>\n",
       "      <td>1</td>\n",
       "      <td>0.030769</td>\n",
       "      <td>0</td>\n",
       "      <td>0.0</td>\n",
       "      <td>0.0</td>\n",
       "      <td>0.0</td>\n",
       "      <td>0.0</td>\n",
       "      <td>0.0</td>\n",
       "      <td>1.0</td>\n",
       "      <td>0.0</td>\n",
       "      <td>0.444608</td>\n",
       "      <td>0.606586</td>\n",
       "      <td>0.063228</td>\n",
       "      <td>0.431978</td>\n",
       "      <td>0.120683</td>\n",
       "      <td>0.330497</td>\n",
       "      <td>0.388839</td>\n",
       "      <td>0.146115</td>\n",
       "      <td>0.951708</td>\n",
       "      <td>0.803855</td>\n",
       "    </tr>\n",
       "    <tr>\n",
       "      <th>997</th>\n",
       "      <td>0.0</td>\n",
       "      <td>1</td>\n",
       "      <td>0.000000</td>\n",
       "      <td>0</td>\n",
       "      <td>0.0</td>\n",
       "      <td>1.0</td>\n",
       "      <td>0.0</td>\n",
       "      <td>0.0</td>\n",
       "      <td>0.0</td>\n",
       "      <td>0.0</td>\n",
       "      <td>0.0</td>\n",
       "      <td>0.414302</td>\n",
       "      <td>0.510702</td>\n",
       "      <td>0.112203</td>\n",
       "      <td>0.681278</td>\n",
       "      <td>0.071131</td>\n",
       "      <td>0.469217</td>\n",
       "      <td>0.318545</td>\n",
       "      <td>0.264870</td>\n",
       "      <td>0.788140</td>\n",
       "      <td>0.945978</td>\n",
       "    </tr>\n",
       "    <tr>\n",
       "      <th>998</th>\n",
       "      <td>0.0</td>\n",
       "      <td>0</td>\n",
       "      <td>0.148148</td>\n",
       "      <td>4</td>\n",
       "      <td>1.0</td>\n",
       "      <td>0.0</td>\n",
       "      <td>0.0</td>\n",
       "      <td>0.0</td>\n",
       "      <td>0.0</td>\n",
       "      <td>0.0</td>\n",
       "      <td>0.0</td>\n",
       "      <td>0.419373</td>\n",
       "      <td>0.701324</td>\n",
       "      <td>0.034955</td>\n",
       "      <td>0.646980</td>\n",
       "      <td>0.085039</td>\n",
       "      <td>0.295978</td>\n",
       "      <td>0.236462</td>\n",
       "      <td>0.507629</td>\n",
       "      <td>0.903342</td>\n",
       "      <td>0.939545</td>\n",
       "    </tr>\n",
       "    <tr>\n",
       "      <th>999</th>\n",
       "      <td>0.0</td>\n",
       "      <td>0</td>\n",
       "      <td>0.181818</td>\n",
       "      <td>4</td>\n",
       "      <td>0.0</td>\n",
       "      <td>0.0</td>\n",
       "      <td>0.0</td>\n",
       "      <td>0.0</td>\n",
       "      <td>0.0</td>\n",
       "      <td>1.0</td>\n",
       "      <td>0.0</td>\n",
       "      <td>0.514936</td>\n",
       "      <td>0.759700</td>\n",
       "      <td>0.091913</td>\n",
       "      <td>0.581271</td>\n",
       "      <td>0.085281</td>\n",
       "      <td>0.209653</td>\n",
       "      <td>0.168493</td>\n",
       "      <td>0.216708</td>\n",
       "      <td>0.889493</td>\n",
       "      <td>0.974934</td>\n",
       "    </tr>\n",
       "  </tbody>\n",
       "</table>\n",
       "<p>1000 rows × 21 columns</p>\n",
       "</div>"
      ],
      "text/plain": [
       "     exclaim_freq  mention_count  cap_freq  ...         7         8         9\n",
       "0             0.0              1  0.101695  ...  0.249077  0.827183  0.914529\n",
       "1             0.0              1  0.078947  ...  0.204248  0.892071  0.916847\n",
       "2             0.0              0  0.028986  ...  0.731983  0.822918  0.865297\n",
       "3             0.0             10  0.222222  ...  0.113047  0.956757  0.874518\n",
       "4             0.0              1  0.000000  ...  0.241088  0.894166  0.875149\n",
       "..            ...            ...       ...  ...       ...       ...       ...\n",
       "995           0.0              0  0.093750  ...  0.168713  0.693614  0.745113\n",
       "996           0.0              1  0.030769  ...  0.146115  0.951708  0.803855\n",
       "997           0.0              1  0.000000  ...  0.264870  0.788140  0.945978\n",
       "998           0.0              0  0.148148  ...  0.507629  0.903342  0.939545\n",
       "999           0.0              0  0.181818  ...  0.216708  0.889493  0.974934\n",
       "\n",
       "[1000 rows x 21 columns]"
      ]
     },
     "execution_count": 23,
     "metadata": {},
     "output_type": "execute_result"
    }
   ],
   "source": [
    "from utils import get_feature_space\n",
    "\n",
    "demo_f2 = get_feature_space(\n",
    "    N = 1000,\n",
    "    feature_space=2,\n",
    "    max_features=10,\n",
    "    random_seed=4525\n",
    ")\n",
    "\n",
    "demo_f2"
   ]
  },
  {
   "cell_type": "markdown",
   "metadata": {},
   "source": [
    "### Extra features\n",
    "\n",
    "- `exclaim_freq`: frequency of exclamation points:\n",
    "\n",
    "\\begin{align*}\n",
    "\\text{exclaim_freq(document)} &= \\frac{\\text{Count(\"!\")}}{\\sum_{\\text{term}\\in \\text{doc}}\\text{len(term)}}\\\\\n",
    "e.g.\\quad \\text{exclaim_freq(\"I! like apples!!\")}\n",
    "&=\\frac{3}{2 + 4 + 8}\n",
    "\\end{align*}\n",
    "\n",
    "- `mention_count`: count of occurrence of \"@Username4525\" in a document.\n",
    "\n",
    "- `cap_freq`: frequency of capitalized letters:\n",
    "\n",
    "\\begin{align*}\n",
    "\\text{cap_freq(document)} &= \\frac{\\text{Count of CAPITALIZED letters}}{\\text{len(document)}}\\\\\n",
    "e.g.\\quad \\text{cap_freq(\"I LIKE APPLES'')}\n",
    "&=1\n",
    "\\end{align*}"
   ]
  },
  {
   "attachments": {},
   "cell_type": "markdown",
   "metadata": {},
   "source": [
    "# Models Demo"
   ]
  },
  {
   "cell_type": "code",
   "execution_count": 24,
   "metadata": {},
   "outputs": [],
   "source": [
    "import pandas as pd\n",
    "import numpy as np\n",
    "\n",
    "f1 = pd.read_csv(\"../project_data/feature_space_1.csv\", encoding=\"latin1\")\n",
    "f2 = pd.read_csv(\"../project_data/feature_space_2.csv\", encoding=\"latin1\")"
   ]
  },
  {
   "cell_type": "code",
   "execution_count": 38,
   "metadata": {},
   "outputs": [],
   "source": [
    "from sklearn.naive_bayes import BernoulliNB\n",
    "from sklearn.linear_model import LogisticRegression\n",
    "from sklearn.ensemble import RandomForestClassifier\n",
    "from sklearn.model_selection import train_test_split\n",
    "from sklearn.metrics import confusion_matrix, classification_report, accuracy_score\n",
    "import matplotlib.pyplot as plt\n",
    "import seaborn as sns"
   ]
  },
  {
   "cell_type": "code",
   "execution_count": 59,
   "metadata": {},
   "outputs": [],
   "source": [
    "np.random.seed(4525)\n",
    "df1 = f1.sample(5000)\n",
    "df2 = f2.sample(5000)\n",
    "\n",
    "X1 = df1.drop(['target'], axis=1)\n",
    "y1 = df1['target']\n",
    "X1_train, X1_test, y1_train, y1_test = train_test_split(\n",
    "    X1, y1, test_size=0.1, random_state=4525)\n",
    "\n",
    "X2 = df2.drop(['target'], axis=1)\n",
    "y2 = df2['target']\n",
    "X2_train, X2_test, y2_train, y2_test = train_test_split(\n",
    "    X2, y2, test_size=0.1, random_state=4525)\n",
    "\n",
    "def assess(y_true, y_pred, plot = False):\n",
    "    print(\"confusion matrix:\")\n",
    "    conf_mat = confusion_matrix(y_true, y_pred)\n",
    "    print(conf_mat)\n",
    "    print()\n",
    "    print(\"accuracy_score:\")\n",
    "    print(accuracy_score(y_true, y_pred))\n",
    "    print()\n",
    "    print(\"classification report:\")\n",
    "    print(classification_report(y_true,y_pred))\n",
    "    print()\n",
    "\n",
    "    if plot:\n",
    "        fig, ax = plt.subplots(1,1, figsize = [7,7])\n",
    "        sns.heatmap(\n",
    "            confusion_matrix(y_true, y_pred, normalize=\"true\"), \n",
    "            annot=True, fmt = \".3f\", ax = ax, cmap=\"Blues\")\n",
    "\n",
    "    return conf_mat"
   ]
  },
  {
   "attachments": {},
   "cell_type": "markdown",
   "metadata": {},
   "source": [
    "### Naive Bayes"
   ]
  },
  {
   "cell_type": "code",
   "execution_count": 62,
   "metadata": {},
   "outputs": [
    {
     "name": "stdout",
     "output_type": "stream",
     "text": [
      "confusion matrix:\n",
      "[[177  73]\n",
      " [ 53 197]]\n",
      "\n",
      "accuracy_score:\n",
      "0.748\n",
      "\n",
      "classification report:\n",
      "              precision    recall  f1-score   support\n",
      "\n",
      "           0       0.77      0.71      0.74       250\n",
      "           4       0.73      0.79      0.76       250\n",
      "\n",
      "    accuracy                           0.75       500\n",
      "   macro avg       0.75      0.75      0.75       500\n",
      "weighted avg       0.75      0.75      0.75       500\n",
      "\n",
      "\n"
     ]
    },
    {
     "data": {
      "text/plain": [
       "array([[177,  73],\n",
       "       [ 53, 197]], dtype=int64)"
      ]
     },
     "execution_count": 62,
     "metadata": {},
     "output_type": "execute_result"
    },
    {
     "data": {
      "image/png": "[encoded data removed]",
      "text/plain": [
       "<Figure size 504x504 with 2 Axes>"
      ]
     },
     "metadata": {
      "needs_background": "light"
     },
     "output_type": "display_data"
    }
   ],
   "source": [
    "# feature space 1\n",
    "model = BernoulliNB(alpha=1)\n",
    "model.fit(X1_train, y1_train)\n",
    "y_pred = model.predict(X1_test)\n",
    "assess(y1_test, y_pred, plot=True)"
   ]
  },
  {
   "cell_type": "code",
   "execution_count": 63,
   "metadata": {},
   "outputs": [
    {
     "name": "stdout",
     "output_type": "stream",
     "text": [
      "confusion matrix:\n",
      "[[180  85]\n",
      " [126 109]]\n",
      "\n",
      "accuracy_score:\n",
      "0.578\n",
      "\n",
      "classification report:\n",
      "              precision    recall  f1-score   support\n",
      "\n",
      "           0       0.59      0.68      0.63       265\n",
      "           4       0.56      0.46      0.51       235\n",
      "\n",
      "    accuracy                           0.58       500\n",
      "   macro avg       0.58      0.57      0.57       500\n",
      "weighted avg       0.58      0.58      0.57       500\n",
      "\n",
      "\n"
     ]
    },
    {
     "data": {
      "text/plain": [
       "array([[180,  85],\n",
       "       [126, 109]], dtype=int64)"
      ]
     },
     "execution_count": 63,
     "metadata": {},
     "output_type": "execute_result"
    },
    {
     "data": {
      "image/png": "[encoded data removed]",
      "text/plain": [
       "<Figure size 504x504 with 2 Axes>"
      ]
     },
     "metadata": {
      "needs_background": "light"
     },
     "output_type": "display_data"
    }
   ],
   "source": [
    "# feature space 2\n",
    "\n",
    "model = BernoulliNB(alpha=1)\n",
    "model.fit(X2_train, y2_train)\n",
    "y_pred = model.predict(X2_test)\n",
    "assess(y2_test, y_pred, plot=True)"
   ]
  },
  {
   "attachments": {},
   "cell_type": "markdown",
   "metadata": {},
   "source": [
    "### Logistic Regression"
   ]
  },
  {
   "cell_type": "code",
   "execution_count": 64,
   "metadata": {},
   "outputs": [
    {
     "name": "stdout",
     "output_type": "stream",
     "text": [
      "confusion matrix:\n",
      "[[177  73]\n",
      " [ 50 200]]\n",
      "\n",
      "accuracy_score:\n",
      "0.754\n",
      "\n",
      "classification report:\n",
      "              precision    recall  f1-score   support\n",
      "\n",
      "           0       0.78      0.71      0.74       250\n",
      "           4       0.73      0.80      0.76       250\n",
      "\n",
      "    accuracy                           0.75       500\n",
      "   macro avg       0.76      0.75      0.75       500\n",
      "weighted avg       0.76      0.75      0.75       500\n",
      "\n",
      "\n"
     ]
    },
    {
     "data": {
      "text/plain": [
       "array([[177,  73],\n",
       "       [ 50, 200]], dtype=int64)"
      ]
     },
     "execution_count": 64,
     "metadata": {},
     "output_type": "execute_result"
    },
    {
     "data": {
      "image/png": "[encoded data removed]",
      "text/plain": [
       "<Figure size 504x504 with 2 Axes>"
      ]
     },
     "metadata": {
      "needs_background": "light"
     },
     "output_type": "display_data"
    }
   ],
   "source": [
    "# feature space 1\n",
    "\n",
    "model = LogisticRegression(C=1)\n",
    "model.fit(X1_train, y1_train)\n",
    "y_pred = model.predict(X1_test)\n",
    "assess(y1_test, y_pred, plot=True)"
   ]
  },
  {
   "cell_type": "code",
   "execution_count": 68,
   "metadata": {},
   "outputs": [
    {
     "name": "stderr",
     "output_type": "stream",
     "text": [
      "c:\\Users\\linru\\Anaconda3\\envs\\DL\\lib\\site-packages\\sklearn\\linear_model\\_logistic.py:444: ConvergenceWarning: lbfgs failed to converge (status=1):\n",
      "STOP: TOTAL NO. of ITERATIONS REACHED LIMIT.\n",
      "\n",
      "Increase the number of iterations (max_iter) or scale the data as shown in:\n",
      "    https://scikit-learn.org/stable/modules/preprocessing.html\n",
      "Please also refer to the documentation for alternative solver options:\n",
      "    https://scikit-learn.org/stable/modules/linear_model.html#logistic-regression\n",
      "  n_iter_i = _check_optimize_result(\n"
     ]
    },
    {
     "name": "stdout",
     "output_type": "stream",
     "text": [
      "confusion matrix:\n",
      "[[193  72]\n",
      " [ 63 172]]\n",
      "\n",
      "accuracy_score:\n",
      "0.73\n",
      "\n",
      "classification report:\n",
      "              precision    recall  f1-score   support\n",
      "\n",
      "           0       0.75      0.73      0.74       265\n",
      "           4       0.70      0.73      0.72       235\n",
      "\n",
      "    accuracy                           0.73       500\n",
      "   macro avg       0.73      0.73      0.73       500\n",
      "weighted avg       0.73      0.73      0.73       500\n",
      "\n",
      "\n"
     ]
    },
    {
     "data": {
      "text/plain": [
       "array([[193,  72],\n",
       "       [ 63, 172]], dtype=int64)"
      ]
     },
     "execution_count": 68,
     "metadata": {},
     "output_type": "execute_result"
    },
    {
     "data": {
      "image/png": "[encoded data removed]",
      "text/plain": [
       "<Figure size 504x504 with 2 Axes>"
      ]
     },
     "metadata": {
      "needs_background": "light"
     },
     "output_type": "display_data"
    }
   ],
   "source": [
    "# feature space 2\n",
    "\n",
    "model = LogisticRegression(penalty=\"l2\")\n",
    "model.fit(X2_train, y2_train)\n",
    "y_pred = model.predict(X2_test)\n",
    "assess(y2_test, y_pred, plot=True)"
   ]
  },
  {
   "attachments": {},
   "cell_type": "markdown",
   "metadata": {},
   "source": [
    "### Random Forest"
   ]
  },
  {
   "cell_type": "code",
   "execution_count": 72,
   "metadata": {},
   "outputs": [
    {
     "name": "stdout",
     "output_type": "stream",
     "text": [
      "confusion matrix:\n",
      "[[168  82]\n",
      " [ 58 192]]\n",
      "\n",
      "accuracy_score:\n",
      "0.72\n",
      "\n",
      "classification report:\n",
      "              precision    recall  f1-score   support\n",
      "\n",
      "           0       0.74      0.67      0.71       250\n",
      "           4       0.70      0.77      0.73       250\n",
      "\n",
      "    accuracy                           0.72       500\n",
      "   macro avg       0.72      0.72      0.72       500\n",
      "weighted avg       0.72      0.72      0.72       500\n",
      "\n",
      "\n"
     ]
    },
    {
     "data": {
      "text/plain": [
       "array([[168,  82],\n",
       "       [ 58, 192]], dtype=int64)"
      ]
     },
     "execution_count": 72,
     "metadata": {},
     "output_type": "execute_result"
    },
    {
     "data": {
      "image/png": "[encoded data removed]",
      "text/plain": [
       "<Figure size 504x504 with 2 Axes>"
      ]
     },
     "metadata": {
      "needs_background": "light"
     },
     "output_type": "display_data"
    }
   ],
   "source": [
    "# feature space 1\n",
    "\n",
    "model = RandomForestClassifier(max_depth=250, max_features='log2', n_estimators=800)\n",
    "model.fit(X1_train, y1_train)\n",
    "# save for demo feature importance\n",
    "rf_model = model\n",
    "y_pred = model.predict(X1_test)\n",
    "assess(y1_test, y_pred, plot=True)"
   ]
  },
  {
   "cell_type": "code",
   "execution_count": 70,
   "metadata": {},
   "outputs": [
    {
     "name": "stdout",
     "output_type": "stream",
     "text": [
      "confusion matrix:\n",
      "[[207  58]\n",
      " [ 72 163]]\n",
      "\n",
      "accuracy_score:\n",
      "0.74\n",
      "\n",
      "classification report:\n",
      "              precision    recall  f1-score   support\n",
      "\n",
      "           0       0.74      0.78      0.76       265\n",
      "           4       0.74      0.69      0.71       235\n",
      "\n",
      "    accuracy                           0.74       500\n",
      "   macro avg       0.74      0.74      0.74       500\n",
      "weighted avg       0.74      0.74      0.74       500\n",
      "\n",
      "\n"
     ]
    },
    {
     "data": {
      "text/plain": [
       "array([[207,  58],\n",
       "       [ 72, 163]], dtype=int64)"
      ]
     },
     "execution_count": 70,
     "metadata": {},
     "output_type": "execute_result"
    },
    {
     "data": {
      "image/png": "[encoded data removed]",
      "text/plain": [
       "<Figure size 504x504 with 2 Axes>"
      ]
     },
     "metadata": {
      "needs_background": "light"
     },
     "output_type": "display_data"
    }
   ],
   "source": [
    "# feature space 2\n",
    "\n",
    "model = RandomForestClassifier(max_depth=100, n_estimators=500)\n",
    "model.fit(X2_train, y2_train)\n",
    "y_pred = model.predict(X2_test)\n",
    "assess(y2_test, y_pred, plot=True)"
   ]
  },
  {
   "attachments": {},
   "cell_type": "markdown",
   "metadata": {},
   "source": [
    "### LSTM (Zhengyi)"
   ]
  },
  {
   "cell_type": "markdown",
   "metadata": {},
   "source": [
    "# Result and summary"
   ]
  },
  {
   "cell_type": "markdown",
   "metadata": {},
   "source": [
    "### Best Performance Overall"
   ]
  },
  {
   "attachments": {
    "image.png": {
     "image/png": "[encoded data removed]"
    }
   },
   "cell_type": "markdown",
   "metadata": {},
   "source": [
    "![image.png](attachment:image.png)"
   ]
  },
  {
   "cell_type": "code",
   "execution_count": 87,
   "metadata": {},
   "outputs": [
    {
     "name": "stdout",
     "output_type": "stream",
     "text": [
      "Most important 50 features (Descending order):\n",
      "0: cap_freq\n",
      "1: mention_count\n",
      "2: exclaim_freq\n",
      "3: weekday_Thu\n",
      "4: tfidf_love\n",
      "5: tfidf_thanks\n",
      "6: weekday_Wed\n",
      "7: tfidf_good\n",
      "8: tfidf_work\n",
      "9: tfidf_sad\n",
      "10: weekday_Mon\n",
      "11: tfidf_want\n",
      "12: weekday_Sun\n",
      "13: tfidf_miss\n",
      "14: tfidf_day\n",
      "15: tfidf_go\n",
      "16: tfidf_great\n",
      "17: tfidf_sorry\n",
      "18: weekday_Sat\n",
      "19: tfidf_thank\n",
      "20: tfidf_lol\n",
      "21: tfidf_hate\n",
      "22: tfidf_get\n",
      "23: tfidf_going\n",
      "24: tfidf_morning\n",
      "25: tfidf_wa\n",
      "26: weekday_Fri\n",
      "27: tfidf_still\n",
      "28: weekday_Tue\n",
      "29: tfidf_you\n",
      "30: tfidf_bad\n",
      "31: tfidf_got\n",
      "32: tfidf_wish\n",
      "33: tfidf_like\n",
      "34: tfidf_happy\n",
      "35: tfidf_back\n",
      "36: tfidf_feel\n",
      "37: tfidf_today\n",
      "38: tfidf_haha\n",
      "39: tfidf_sleep\n",
      "40: tfidf_know\n",
      "41: tfidf_new\n",
      "42: tfidf_one\n",
      "43: tfidf_twitter\n",
      "44: tfidf_see\n",
      "45: tfidf_really\n",
      "46: tfidf_nice\n",
      "47: tfidf_missed\n",
      "48: tfidf_my\n",
      "49: tfidf_night\n"
     ]
    }
   ],
   "source": [
    "importances = rf_model.feature_importances_\n",
    "\n",
    "n = 50\n",
    "print(f\"Most important {n} features (Descending order):\")\n",
    "\n",
    "most_important = list(X1.columns[np.argsort(-importances)][:n])\n",
    "for id, item in enumerate(most_important):\n",
    "    print(f\"{id}: {item}\")"
   ]
  },
  {
   "cell_type": "code",
   "execution_count": null,
   "metadata": {},
   "outputs": [],
   "source": []
  }
 ],
 "metadata": {
  "kernelspec": {
   "display_name": "Python 3 (ipykernel)",
   "language": "python",
   "name": "python3"
  },
  "language_info": {
   "codemirror_mode": {
    "name": "ipython",
    "version": 3
   },
   "file_extension": ".py",
   "mimetype": "text/x-python",
   "name": "python",
   "nbconvert_exporter": "python",
   "pygments_lexer": "ipython3",
   "version": "3.9.13"
  }
 },
 "nbformat": 4,
 "nbformat_minor": 2
}
