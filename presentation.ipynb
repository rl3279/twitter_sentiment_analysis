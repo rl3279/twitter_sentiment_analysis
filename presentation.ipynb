{
 "cells": [
  {
   "cell_type": "markdown",
   "metadata": {},
   "source": [
    "# Introduction"
   ]
  },
  {
   "cell_type": "markdown",
   "metadata": {},
   "source": [
    "### Project Abstract"
   ]
  },
  {
   "attachments": {},
   "cell_type": "markdown",
   "metadata": {},
   "source": [
    "### Figure illustrating workflow (Ruoyu)\n",
    "\n",
    "See below for a brief summary illustration of the workflow for this project:\n",
    "\n",
    "<img src=\"./img/workflow.jpg\" width=\"1000\">"
   ]
  },
  {
   "attachments": {},
   "cell_type": "markdown",
   "metadata": {},
   "source": [
    "# Data (Zhengyi)"
   ]
  },
  {
   "attachments": {},
   "cell_type": "markdown",
   "metadata": {},
   "source": [
    "# Pre-processing Pipeline (All, specific TBD)"
   ]
  },
  {
   "attachments": {},
   "cell_type": "markdown",
   "metadata": {},
   "source": [
    "### Functions"
   ]
  },
  {
   "attachments": {},
   "cell_type": "markdown",
   "metadata": {},
   "source": [
    "# Feature Spaces"
   ]
  },
  {
   "attachments": {},
   "cell_type": "markdown",
   "metadata": {},
   "source": [
    "### TF-IDF (Ruoyu)\n",
    "\n",
    "Term Frequency-Inverse Document Frequency(TF-IDF) is defined by \n",
    "\n",
    "\\begin{align*}\n",
    "    \\text{TF}(t) &= \\frac{\\text{Occurence of term $t$ in document}}{\\text{Total number of terms in document}}\\\\\n",
    "    \\text{IDF}(t) &= \\log\\left(\n",
    "        \\frac{\n",
    "            \\text{Total number of documents}\n",
    "        }{\n",
    "            \\text{Number of documents containing term $t$}\n",
    "        }\n",
    "    \\right)\\\\\n",
    "    \\text{TF-IDF}(t)&=\\text{TF}(t)\\cdot \\text{IDF}(t)\n",
    "\\end{align*}\n",
    "\n",
    "Intuition: Relative importance $\\times$ relative offset"
   ]
  },
  {
   "attachments": {},
   "cell_type": "markdown",
   "metadata": {},
   "source": [
    "### Word2Vec (Mike)"
   ]
  },
  {
   "cell_type": "markdown",
   "metadata": {},
   "source": [
    "Pre-trained in library vs. fit on own document"
   ]
  },
  {
   "attachments": {},
   "cell_type": "markdown",
   "metadata": {},
   "source": [
    "### Extra features (Ruoyu)"
   ]
  },
  {
   "cell_type": "markdown",
   "metadata": {},
   "source": [
    "# Models"
   ]
  },
  {
   "attachments": {},
   "cell_type": "markdown",
   "metadata": {},
   "source": [
    "### Naive Bayes (Zhengyi)"
   ]
  },
  {
   "attachments": {},
   "cell_type": "markdown",
   "metadata": {},
   "source": [
    "### Logistic Regression (Skylar)"
   ]
  },
  {
   "attachments": {},
   "cell_type": "markdown",
   "metadata": {},
   "source": [
    "### Random Forest (Mike)"
   ]
  },
  {
   "attachments": {},
   "cell_type": "markdown",
   "metadata": {},
   "source": [
    "### LSTM (Ruoyu, if possible)"
   ]
  },
  {
   "attachments": {},
   "cell_type": "markdown",
   "metadata": {},
   "source": [
    "# Result and summary"
   ]
  },
  {
   "attachments": {},
   "cell_type": "markdown",
   "metadata": {},
   "source": [
    "### TODO: create a table containing all accuracy scores, feature space numbers, and models (Skylar)\n",
    "\n",
    "Columns:\n",
    "- Feature 1 or 2\n",
    "- Model name\n",
    "- Accuracy score"
   ]
  }
 ],
 "metadata": {
  "kernelspec": {
   "display_name": "DL",
   "language": "python",
   "name": "python3"
  },
  "language_info": {
   "codemirror_mode": {
    "name": "ipython",
    "version": 3
   },
   "file_extension": ".py",
   "mimetype": "text/x-python",
   "name": "python",
   "nbconvert_exporter": "python",
   "pygments_lexer": "ipython3",
   "version": "3.9.13"
  },
  "orig_nbformat": 4
 },
 "nbformat": 4,
 "nbformat_minor": 2
}
